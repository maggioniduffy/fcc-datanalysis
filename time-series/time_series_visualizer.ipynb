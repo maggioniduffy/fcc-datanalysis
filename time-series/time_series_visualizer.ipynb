{
 "cells": [
  {
   "cell_type": "markdown",
   "metadata": {},
   "source": [
    "# Time Series Visualizer"
   ]
  },
  {
   "cell_type": "markdown",
   "metadata": {},
   "source": [
    "### Import necesary libraries"
   ]
  },
  {
   "cell_type": "code",
   "execution_count": null,
   "metadata": {},
   "outputs": [],
   "source": [
    "import matplotlib.pyplot as plt\n",
    "import pandas as pd\n",
    "from datetime import datetime\n",
    "import seaborn as sns\n",
    "import numpy as np\n",
    "from pandas.plotting import register_matplotlib_converters\n",
    "\n",
    "register_matplotlib_converters()"
   ]
  },
  {
   "cell_type": "markdown",
   "metadata": {},
   "source": [
    "## Import data"
   ]
  },
  {
   "cell_type": "code",
   "execution_count": null,
   "metadata": {},
   "outputs": [],
   "source": [
    "df = pd.read_csv('./fcc-forum-pageviews.csv')\n",
    "df.set_index('date')\n",
    "print(df.head())"
   ]
  },
  {
   "cell_type": "markdown",
   "metadata": {},
   "source": [
    "## Clean data"
   ]
  },
  {
   "cell_type": "markdown",
   "metadata": {},
   "source": [
    "* Remove top 2.5% and bottom 2.5% from dataset"
   ]
  },
  {
   "cell_type": "code",
   "execution_count": null,
   "metadata": {},
   "outputs": [],
   "source": [
    "indexAge = df[(df['value'] <= df['value'].quantile(0.025)) |\n",
    "              (df['value'] > df['value'].quantile(0.975))].index\n",
    "df.drop(indexAge , inplace=True)"
   ]
  },
  {
   "cell_type": "markdown",
   "metadata": {},
   "source": [
    "## Line Plot"
   ]
  },
  {
   "cell_type": "code",
   "execution_count": null,
   "metadata": {},
   "outputs": [],
   "source": [
    "def draw_line_plot():\n",
    "    # Draw line plot\n",
    "\n",
    "    fig,ax = plt.subplots()\n",
    "    x = df['date']\n",
    "    y = df['value']\n",
    "    ax.set_xlabel('Date')\n",
    "    ax.set_ylabel('Page Views')\n",
    "    ax.set_title('Daily freeCodeCamp Forum Page Views 5/2016-12/2019')\n",
    "    ax.plot(x,y,linewidth=2.0,color=\"red\")\n",
    "    ax.set(xlim=(0,len(x)+100),xticks=x)\n",
    "    \n",
    "    #plt.show()\n",
    "    \n",
    "    # Save image and return fig (don't change this part)\n",
    "    fig.savefig('line_plot.png')\n",
    "    return fig\n",
    "  \n",
    "draw_line_plot()"
   ]
  },
  {
   "cell_type": "markdown",
   "metadata": {},
   "source": [
    "## Bar Plot"
   ]
  },
  {
   "cell_type": "code",
   "execution_count": null,
   "metadata": {},
   "outputs": [],
   "source": [
    "years_map = {\n",
    "    2016: 0,\n",
    "    2017: 1,\n",
    "    2018: 2,\n",
    "    2019: 3\n",
    "}\n",
    "\n",
    "\n",
    "def draw_bar_plot():\n",
    "    # Copy and modify data for monthly bar plot\n",
    "    # 2016-05-09\n",
    "    df_bar = df.groupby(pd.PeriodIndex(df['date'], freq=\"M\"))['value'].mean().reset_index()\n",
    "    years = ['2016','2017','2018','2019']\n",
    "    x_axis = np.arange(len(years))\n",
    "    # Draw bar plot\n",
    "    months = np.zeros((12,4))\n",
    "    for index,row in df_bar.iterrows():\n",
    "        x = row['date']\n",
    "        i = (x.month - 1) % 12\n",
    "        j = years_map.get(x.year)\n",
    "        months[i][j] = row['value']\n",
    "    width = 0.05\n",
    "    \n",
    "    plt.figure(figsize=(20,20))\n",
    "    plt.bar(x_axis, months[0], 0.05, label=\"Januray\")\n",
    "    plt.bar(x_axis+width, months[1], 0.05, label=\"February\")\n",
    "    plt.bar(x_axis+width*2, months[2], 0.05, label=\"March\")\n",
    "    plt.bar(x_axis+width*3, months[3], 0.05, label=\"April\")\n",
    "    plt.bar(x_axis+width*4, months[4], 0.05, label=\"May\")\n",
    "    plt.bar(x_axis+width*5, months[5], 0.05, label=\"June\")\n",
    "    plt.bar(x_axis+width*6, months[6], 0.05, label=\"July\")\n",
    "    plt.bar(x_axis+width*7, months[7], 0.05, label=\"August\")\n",
    "    plt.bar(x_axis+width*8, months[8], 0.05, label=\"September\")\n",
    "    plt.bar(x_axis+width*9, months[9], 0.05, label=\"October\")\n",
    "    plt.bar(x_axis+width*10, months[10], 0.05, label=\"November\")\n",
    "    plt.bar(x_axis+width*11, months[11], 0.05, label=\"December\")\n",
    "    plt.xticks(x_axis,years)\n",
    "    plt.xlabel('Years')\n",
    "    plt.ylabel('Average Page Views')\n",
    "    #plt.title()\n",
    "    plt.legend()\n",
    "    plt.show()\n",
    "\n",
    "    # Save image and return fig (don't change this part)\n",
    "    plt.savefig('bar_plot.png')\n",
    "    \n",
    "draw_bar_plot()"
   ]
  },
  {
   "cell_type": "markdown",
   "metadata": {},
   "source": [
    "## Box Plot"
   ]
  },
  {
   "cell_type": "code",
   "execution_count": null,
   "metadata": {},
   "outputs": [],
   "source": [
    "def draw_box_plot():\n",
    "    # Prepare data for box plots (this part is done!)\n",
    "    df_box = df.copy()\n",
    "    df_box.reset_index(inplace=True)\n",
    "    format = '%Y-%m-%d'\n",
    "    df_box['year'] = [(datetime.strptime(d, format)).year for d in df_box.date]\n",
    "    df_box['month'] = [(datetime.strptime(d, format)).month for d in df_box.date]\n",
    "\n",
    "    print(df_box.head())\n",
    "    # Draw box plots (using Seaborn)\n",
    "    fig, axs = plt.subplots(ncols=2,figsize=(20,20))\n",
    "    df_1 = df_box.copy()\n",
    "    df_1.drop('month',axis=1)\n",
    "    df_1.reset_index(inplace=True)\n",
    "    sns.boxplot(data=df_1,x='year',y='value',ax=axs[0]).set(title='Year-wise Box Plot (Trend)',xlabel='Years', ylabel='Average Page Views')\n",
    "    \n",
    "    months = {\n",
    "        1:'Jan',\n",
    "\t\t2:'Feb',\n",
    "\t\t3:'Mar',\n",
    "\t\t4:'Apr',\n",
    "\t\t5:'May',\n",
    "\t\t6:'Jun',\n",
    "\t\t7:'Jul',\n",
    "\t\t8:'Aug',\n",
    "\t\t9:'Sep',\n",
    "\t\t10:'Oct',\n",
    "\t\t11:'Nov',\n",
    "\t\t12:'Dec'\t\t\n",
    "    }\n",
    "    df_2 = df_box.copy()\n",
    "    df_2.drop('year',axis=1)\n",
    "    df_2.set_index('month')\n",
    "    df_2['month'] = [months.get(d) for d in df_2.month]\n",
    "    print('MONTHS', df_2['month'].unique())\n",
    "    df_2.reset_index(inplace=True)\n",
    "    sns.boxplot(data=df_2,x='month',y='value',ax=axs[1]).set(title='Month-wise Box Plot (Seasonality)',xlabel='Months', ylabel='Average Page Views')\n",
    "    \n",
    "    plt.show()\n",
    "    \n",
    "    # Save image and return fig (don't change this part)\n",
    "    fig.savefig('box_plot.png')\n",
    "    return fig\n",
    "  \n",
    "draw_box_plot()"
   ]
  }
 ],
 "metadata": {
  "language_info": {
   "name": "python"
  },
  "orig_nbformat": 4
 },
 "nbformat": 4,
 "nbformat_minor": 2
}
